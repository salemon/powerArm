{
 "cells": [
  {
   "cell_type": "markdown",
   "metadata": {},
   "source": [
    "# Inverse kinematics\n",
    "This notebook considers the problem of inverse kinematics, ie solving at each control cycle of the robot a quadratic program from the derivatives (jacobian) of the current state. It introduces the basic function to compute the Jacobians of the robot, and how to use them to compute an inverse-kinematics control law. One of the key difficulties is to understand in which frames each quantities is computed (might be in the world frame, in the local frame attached to the end effector, in some arbitrary goal frame, etc), as we should never mixed quantities expressed in different frames without transporting them in the right frame. \n"
   ]
  },
  {
   "cell_type": "code",
   "execution_count": 1,
   "metadata": {},
   "outputs": [
    {
     "name": "stdout",
     "output_type": "stream",
     "text": [
      "NB: as for all the tutorials, a magic command %do_not_load is introduced to hide the solutions to some questions. Change it for %load if you want to see (and execute) the solution.\n"
     ]
    }
   ],
   "source": [
    "import magic_donotload  # noqa: F401"
   ]
  },
  {
   "cell_type": "markdown",
   "metadata": {},
   "source": [
    "## Set up\n",
    "We will MeshCat for visualization and NumPy for linear algebra. Note that the [@ operator](https://numpy.org/doc/stable/reference/routines.linalg.html#the-operator) is a way to compute the matrix (dot) product between two NumPy arrays, similar to ``np.dot(A, B)``."
   ]
  },
  {
   "cell_type": "code",
   "execution_count": 3,
   "metadata": {},
   "outputs": [],
   "source": [
    "import pinocchio as pin\n",
    "import numpy as np\n",
    "import time\n",
    "from numpy.linalg import pinv,inv,norm,svd,eig\n",
    "from tp3.tiago_loader import loadTiago\n",
    "import matplotlib.pylab as plt; plt.ion()\n",
    "from utils.meshcat_viewer_wrapper import MeshcatVisualizer"
   ]
  },
  {
   "cell_type": "markdown",
   "metadata": {},
   "source": [
    "We will use the [Tiago](https://youtu.be/6BwRqwD066g) robot, a mobile manipulator from PAL Robotics:"
   ]
  },
  {
   "cell_type": "code",
   "execution_count": 5,
   "metadata": {},
   "outputs": [
    {
     "name": "stdout",
     "output_type": "stream",
     "text": [
      "You can open the visualizer by visiting the following URL:\n",
      "http://127.0.0.1:7000/static/\n"
     ]
    }
   ],
   "source": [
    "robot = loadTiago()\n",
    "viz = MeshcatVisualizer(robot)"
   ]
  },
  {
   "cell_type": "markdown",
   "metadata": {},
   "source": [
    "Click on the link above to open the viewer in a separate window, or execute the following cell to embed the viewer here:"
   ]
  },
  {
   "cell_type": "code",
   "execution_count": 6,
   "metadata": {},
   "outputs": [
    {
     "data": {
      "text/html": [
       "\n",
       "            <div style=\"height: 400px; width: 100%; overflow-x: auto; overflow-y: hidden; resize: both\">\n",
       "            <iframe src=\"http://127.0.0.1:7000/static/\" style=\"width: 100%; height: 100%; border: none\"></iframe>\n",
       "            </div>\n",
       "            "
      ],
      "text/plain": [
       "<IPython.core.display.HTML object>"
      ]
     },
     "execution_count": 6,
     "metadata": {},
     "output_type": "execute_result"
    }
   ],
   "source": [
    "viz.viewer.jupyter_cell()"
   ]
  },
  {
   "cell_type": "markdown",
   "metadata": {},
   "source": [
    "Tiago consists of:\n",
    "\n",
    "- A mobile base that can move in the plane (the corresponding joint will be a *floating base* in $SE(2)$, thus with three degrees of freedom).\n",
    "- A manipulator arm (seven DOFs).\n",
    "- An articulated head (two DOFs).\n",
    "- A prismatic axis moving vertically (one DOF), on which arm and head are mounted.\n",
    "- Two extra joints to represent the wheels under the mobile base (two DOFs), which we won't use in this tutorial.\n",
    "\n",
    "The wheel and the base rotations are represented by the vector $[\\cos \\theta\\ \\sin \\theta]$ corresponding to their angle $\\theta$. This choice of representation results in a larger vector, subject to the constraint $\\cos(\\theta)^2 + \\sin(\\theta)^2 = 1$, but with no discontinuity at the boundary of the angular interval chosen to select a unique angle. The dimension of the configuration space (equivalently, the size of the configuration vector) is then:\n",
    "\n",
    "| Joint          | DOFs | Dim. of config. repr. | Dim. of tangent repr. |\n",
    "|----------------|------|-----------------------|-----------------------|\n",
    "| Mobile base    | 3    | 4  | 3 |\n",
    "| Manipulator    | 7    | 7  | 7 |\n",
    "| Head           | 2    | 2  | 2 |\n",
    "| Prismatic axis | 1    | 1  | 1 |\n",
    "| Wheels         | 2    | 4  | 2 |\n",
    "| **Total**      | **15** | **18** | **15** |\n",
    "\n",
    "You can check these values in ``robot.model.nq`` and ``robot.model.nv``.\n",
    "\n",
    "The configuration is represented by a vector of larger dimension, subject to constraints $\\cos(\\theta)^2 + \\sin(\\theta)^2 = 1$. It is not possible to randomly sample a configuration vector $q$ using the distributions from NumPy, as the results won't respect these constraints. Similarly, we should take care when integrating velocities, as summing a configuration $q$ with a velocity $v$ is undefined (dimensions don't match). Two functions in Pinocchio implements these functionnalities."
   ]
  },
  {
   "cell_type": "code",
   "execution_count": 7,
   "metadata": {},
   "outputs": [],
   "source": [
    "q = pin.randomConfiguration(robot.model)\n",
    "vq = np.random.rand(robot.model.nv)*2 - 1\n",
    "DT = 1e-3\n",
    "qnext = pin.integrate(robot.model,q,vq*DT)"
   ]
  },
  {
   "cell_type": "markdown",
   "metadata": {},
   "source": [
    "Here is a simple example where we move the robot in the viewer following a constant (random) velocity:"
   ]
  },
  {
   "cell_type": "code",
   "execution_count": 8,
   "metadata": {},
   "outputs": [],
   "source": [
    "for t in range(1000):\n",
    "    q = pin.integrate(robot.model,q,vq*DT)\n",
    "    viz.display(q)\n",
    "    time.sleep(DT/10)"
   ]
  },
  {
   "cell_type": "markdown",
   "metadata": {},
   "source": [
    "The robot is mobile, hence the camera view in the viewer is not always centered. Also, don't worry if you see the torso fly above the prismatic joint: we are not including joint limits yet 😉"
   ]
  },
  {
   "cell_type": "markdown",
   "metadata": {},
   "source": [
    "## Forward kinematics and Jacobian\n",
    "\n",
    "Here's a quick recap on forward kinematics. Let's consider two frames of interest: the first one, named \"frametool\" is at the tip of the end-effector; the second one, named \"framebasis\", is at the fore of the robot's mobile base, 10 cm above the ground. Both are represented in MeshCat by a triad of RGB arrows:"
   ]
  },
  {
   "cell_type": "code",
   "execution_count": 14,
   "metadata": {},
   "outputs": [],
   "source": [
    "IDX_TOOL = robot.model.getFrameId('frametool')\n",
    "IDX_BASIS = robot.model.getFrameId('framebasis')"
   ]
  },
  {
   "cell_type": "code",
   "execution_count": 15,
   "metadata": {},
   "outputs": [
    {
     "data": {
      "text/plain": [
       "Frame name: frametool paired to (parent joint/ previous frame)(9/52)\n",
       "with relative placement wrt parent joint:\n",
       "  R =\n",
       "1 0 0\n",
       "0 1 0\n",
       "0 0 1\n",
       "  p =    0    0 0.08\n",
       "containing inertia:\n",
       "  m = 0\n",
       "  c = 0 0 0\n",
       "  I = \n",
       "0 0 0\n",
       "0 0 0\n",
       "0 0 0"
      ]
     },
     "execution_count": 15,
     "metadata": {},
     "output_type": "execute_result"
    }
   ],
   "source": [
    "robot.model.frames[IDX_TOOL]"
   ]
  },
  {
   "cell_type": "markdown",
   "metadata": {},
   "source": [
    "The `frames` vector in a `robot.model` contains relative placements in $SE(3)$: ``frames[i]`` gives the placement from frame $i$ to its parent frame in the kinematic tree. If the frame is that of a link rather than a joint, it will also contain non-zero inertias."
   ]
  },
  {
   "cell_type": "markdown",
   "metadata": {},
   "source": [
    "### Computing frame placement\n",
    "\n",
    "The global placement of the frames is computed by the Pinocchio function `framesForwardKinematics`, whose results are stored in `robot.data.oMf`. Read `oMf` as ${}^0 M_f$, where $0$ is the index of our inertial frame (*a.k.a.* the world frame)."
   ]
  },
  {
   "cell_type": "code",
   "execution_count": 16,
   "metadata": {},
   "outputs": [
    {
     "name": "stdout",
     "output_type": "stream",
     "text": [
      "Tool placement:   R =\n",
      " 0.304543   0.77049  0.559999\n",
      " 0.506457 -0.628916  0.589886\n",
      " 0.806694   0.10397 -0.581752\n",
      "  p =  0.75067 0.178881 0.575667\n",
      "\n",
      "Basis placement:   R =\n",
      "1 0 0\n",
      "0 1 0\n",
      "0 0 1\n",
      "  p =  0.3    0 0.15\n",
      "\n"
     ]
    }
   ],
   "source": [
    "pin.framesForwardKinematics(robot.model, robot.data, q)\n",
    "\n",
    "oMtool = robot.data.oMf[IDX_TOOL]\n",
    "oMbasis = robot.data.oMf[IDX_BASIS]\n",
    "\n",
    "print(\"Tool placement:\",oMtool)\n",
    "print(\"Basis placement:\",oMbasis)"
   ]
  },
  {
   "cell_type": "markdown",
   "metadata": {},
   "source": [
    "It is important to note the instruction pattern, which is standard in all Pinocchion functions: first, call an algorithm (here ``pin.framesForwardKinematics``); then, access the results in *robot.data*. Our `robot.model` contains the abstract structure (the model) of our robot, whereas `robot.data` contains a particular instance of that structure, populated by the algorithm for a given instance of configuration, velocity, etc."
   ]
  },
  {
   "cell_type": "markdown",
   "metadata": {},
   "source": [
    "The tool-placement matrix $^0M_{tool}$ represents the displacement between the tool frame $F_{tool}$ and the world frame $F_{world}$. It is the affine transform matrix that maps vectors expressed in $F_{tool}$ to their corresponding vectors expressed in $F_0$. It consists of a $3 \\times 3$ rotation matrix $^0 R_{tool}$, and a 3D position vector:\n",
    "\n",
    "$$\n",
    "^0T_{tool} = {}^0 (p_{tool} - p_{0}) = {}^0 p_{tool} - {}^0 p_{0} = {}^0 p_{tool}.\n",
    "$$\n",
    "\n",
    "This is the vector from the origin of frame $F_0$ to the origin of frame $F_{tool}$, expressed in the world frame $F_0$. We can also express $p_{tool} - p_{0}$ in the tool frame $F_{tool}$ by multiplying $^0T_{tool}$ by ${}^{tool} R _0 = {}^{0}R_{tool}^T$:\n",
    "\n",
    "$$\n",
    "{}^{tool} (p_{tool} - p_0) = - {}^{tool}p_0 = R_0 {}^0 T_{tool}.\n",
    "$$"
   ]
  },
  {
   "cell_type": "markdown",
   "metadata": {},
   "source": [
    "Take care with the multiplication operator in NumPy: the operator ``*`` is (unintuitively) mapped to the coefficient-wise multiplication (*a.k.a.* the [Hadamard product](Hadamard product)), that is, **not** the usual matrix multiplication. You should use the operator ``@`` to get an actual matrix-to-matrix dot product. (Or never mind: you will likely be tricked at least once by this, then remember it out of spite 😅) "
   ]
  },
  {
   "cell_type": "markdown",
   "metadata": {},
   "source": [
    "### Computing Jacobians\n",
    "The Jacobian of a frame of the robot is computed using `pin.computeFrameJacobian`:"
   ]
  },
  {
   "cell_type": "code",
   "execution_count": 17,
   "metadata": {},
   "outputs": [
    {
     "data": {
      "text/plain": [
       "(6, 15)"
      ]
     },
     "execution_count": 17,
     "metadata": {},
     "output_type": "execute_result"
    }
   ],
   "source": [
    "Jtool = pin.computeFrameJacobian(robot.model, robot.data, q, IDX_TOOL)\n",
    "Jtool.shape"
   ]
  },
  {
   "cell_type": "markdown",
   "metadata": {},
   "source": [
    "This matrix has 6 rows and ``robot.model.nv == 15`` columns. It corresponds to the \"body\" 6D velocity of the end effector, that is, vectors in the image of this Jacobian matrix are expressed in $F_{tool}$ rather than in $F_0$. Let's first focus on the first three rows. Those correspond to the linear velocity of the tool frame, in the tool frame:"
   ]
  },
  {
   "cell_type": "code",
   "execution_count": 18,
   "metadata": {},
   "outputs": [],
   "source": [
    "Jtool3 = Jtool[:3,:]"
   ]
  },
  {
   "cell_type": "markdown",
   "metadata": {},
   "source": [
    "#### Jacobian as a velocity operator\n",
    "A first way to understand what is this matrix is to see that as an operator that converts the velocity in the configuration space to the linear velocity of the tool:"
   ]
  },
  {
   "cell_type": "code",
   "execution_count": 19,
   "metadata": {},
   "outputs": [],
   "source": [
    "vtool = Jtool3 @ vq"
   ]
  },
  {
   "cell_type": "markdown",
   "metadata": {},
   "source": [
    "But in which frame is $v_{tool}$ expressed? The choice in Pinocchio (following the principles described in [Rigid body dynamics algorithms](https://doi.org/10.1007/978-1-4899-7560-7)) is to express quantities in the local frame by default. Therefore, ``vtool`` here is ${}^{tool} v_{tool}$, expressed in the tool frame $F_{tool}$. We can compute the velocity in the world frame $F_0$ by applying the rotation matrix $^{0}R_{tool}$:"
   ]
  },
  {
   "cell_type": "code",
   "execution_count": 20,
   "metadata": {},
   "outputs": [],
   "source": [
    "tool_vtool = vtool\n",
    "o_vtool = oMtool.rotation @ vtool"
   ]
  },
  {
   "cell_type": "markdown",
   "metadata": {},
   "source": [
    "The resulting velocity, that we denote by ${}^0 v_{tool}$ here, is ${}^{tool} v_{tool}$ rotated to the world frame."
   ]
  },
  {
   "cell_type": "code",
   "execution_count": 21,
   "metadata": {},
   "outputs": [],
   "source": [
    "tool_Jtool = pin.computeFrameJacobian(robot.model, robot.data, q, IDX_TOOL, pin.LOCAL)\n",
    "tool_Jtool3 = tool_Jtool[:3,:]"
   ]
  },
  {
   "cell_type": "markdown",
   "metadata": {},
   "source": [
    "We are using long variable names here to keep track. (A common practice is to only shorten these variable names when their full meaning is clear from context.) We can generalize this notation to the Jacobian part dedidcated to linear velocity expressed in the world frame $F_0$:"
   ]
  },
  {
   "cell_type": "code",
   "execution_count": 22,
   "metadata": {},
   "outputs": [],
   "source": [
    "o_Jtool3 = oMtool.rotation @ tool_Jtool3"
   ]
  },
  {
   "cell_type": "markdown",
   "metadata": {},
   "source": [
    "To be more precise, the relation between Jacobian, motion and frame is:\n",
    "$$\n",
    "^{tool}J_{tool} \\dot{q} = ^{tool}\\xi_{tool} = \\begin{bmatrix} ^{tool}v_{tool} \\\\ ^{tool}\\omega_{tool} \\end{bmatrix}\n",
    "$$\n",
    "Here ${}^{tool} \\xi_{tool}$ is the *twist* (the instantaneous rigid-body motion, including both linear and angular velocity) from frame $F_{tool}$ to frame $F_0$, expressed in $F_{tool}$ itself. Mathematically, twist is just a name for any element of the Lie algebra $\\mathfrak{se}(3)$. We can interpret $^{tool}v_{tool}$ as the point velocity of the origin of frame $F_{tool}$, expressed in itself, and $^{tool}\\omega_{tool}$ as the instaneous rotation axis/amplitude."
   ]
  },
  {
   "cell_type": "markdown",
   "metadata": {},
   "source": [
    "#### Adjoint operator\n",
    "\n",
    "We can also compute the twist ${}^0 w_{tool}$ in the world frame. Its formula is given by:\n",
    "$$\n",
    "{}^{0}\\xi_{tool} = {}^{0}J_{tool}\\dot{q} = {}^{0}X_{tool}{}^{tool}\\xi_{tool} = ({}^{0}X_{tool}{}^{tool}J_{tool}) \\dot{q}\n",
    "$$\n",
    "where $^{0}X_{tool}$ is the *adjoint operator* related to $[{}^{0}R_{tool}, {}^{0}T_{tool}]$ that allows us to change frame for elements of $\\mathfrak{se}(3)$.\n",
    "It express:\n",
    "$$\n",
    "{}^{0}X_{tool} = \\begin{bmatrix} ^{0}R_{tool} &  [{}^{0}T_{tool}]_\\times {}^{0}R_{tool} \\\\\n",
    "0 & {}^{0}R_{tool} \\end{bmatrix}\n",
    "$$\n",
    "Recall that $^{tool}\\xi_{tool} = [^{tool}v_{tool}, ^{tool}\\omega_{tool}]$. We calculate:\n",
    "$$\n",
    "^{0}\\xi_{tool} =  {}^{0}X_{tool}{}^{tool}\\xi_{tool} = [{}^{0}R_{tool}{}^{tool}v_{tool} + {}^{0}T_{tool} \\times {}^{0}R_{tool}{}^{tool}\\omega_{tool},  {}^0R_{tool}{}^{tool}\\omega_{tool}]\n",
    "$$\n",
    "And we have:\n",
    "$$\n",
    "^{0}\\xi_{tool}=[^0v_{tool} + {}^0T_{tool} \\times {}^{0}\\omega_{tool}, ^{0}\\omega_{tool}]\n",
    "$$\n",
    "Note here that the angular component of $^{0}\\xi_{tool}$ is indeed $^{0}\\omega_{tool}$, but the linear part of $^{0}\\xi_{tool}$ is **not** the vector $^0v_{tool}$ from above. Instead, the Varignon formula applies. The linear part of $^{0}\\xi_{tool}$ does not have an easy interpretation on its own: it corresponds to the instantaneous velocity of a point of the tool frame that coincides with the origin of the world frame, expressed in the world frame."
   ]
  },
  {
   "cell_type": "markdown",
   "metadata": {},
   "source": [
    "#### Jacobian as a derivative of frame placements\n",
    "\n",
    "Previously, we saw Jacobians as operators transforming configuration velocities into twists. A second interpretation of is to observe that it is the derivative of the placement following $q$. For the three first colums, it is the derivative of the vector $^0T_{tool} = {}^0(o_{tool} - o_0)$ the tool position in world frame. Indeed $^0T_{tool}$ is a function of $q$, $^0T_{tool}(q)$ in full writing. We can take its derivative with respect to $q$, itself express in the world frame,  denoted ${}^{0}\\frac{\\partial {}^{0}T_{tool}}{\\partial q}$. This derivative is equal to the Jacobian expressed in the world frame $F_0$:\n",
    "$$\n",
    "\\vphantom{\\frac{\\partial}{\\partial}}^{0}\\frac{\\partial ^0T_{tool}}{\\partial q} = {}^{0}J_{tool}^{(3)}.\n",
    "$$\n",
    "The global Jacobian is the same for the whole motion expression, using the algebra of the Lie group $SE(3)$:\n",
    "\n",
    "$$\n",
    "^{tool}J_{tool}(q) u = \\vphantom{\\frac{\\partial}{\\partial}}^{tool}\\frac{\\partial {}^0M_{tool}}{\\partial q} u = \\lim_{t \\to 0^+}\\frac{^{0}M_{tool}(q \\oplus_{\\mathcal{C}} tu) \\ominus_{SE(3)} \\vphantom{.}^{0}M_{tool}(q)}{t}\n",
    "$$\n",
    "\n",
    "where the $\\oplus_{\\mathcal{C}}$ operator is the exponential on the configuration space $\\mathcal{C}$, implemented for us by Pinocchio's `pin.integrate(model, q, dq)` function. You can think of it by analogy with $SE(3)$:\n",
    "\n",
    "$$\n",
    "{}^{0} M_{tool} \\oplus_{SE(3)} {}^{tool} \\xi_{tool} = {}^0 M_{tool} \\exp({}^{tool} \\xi_{tool})\n",
    "$$\n",
    "\n",
    "The minus operator $\\ominus_{SE(3)}$ corresponds to the logarithm:\n",
    "\n",
    "$$\n",
    "{}^{0} M_{goal} \\ominus_{SE(3)} {}^0 M_{tool} = \\log({}^0 M_{tool}^{-1} {}^0 M_{goal}) = \\log({}^{tool} M_{goal})\n",
    "$$\n",
    "\n",
    "In this expression, the resulting vector $\\log({}^{tool} M_{goal})$ belongs to the tool frame $F_{tool}$ (informally, $\\log({}^b M_a)$ is in frame $b$). In Lie groups, be it $SE(3)$ to describe rigid-body transformations, or $\\mathcal{C}$ the configuration space of our robot, things don't commute. If we had taken ${}^{0} M_{tool} \\ominus_{SE(3)} {}^{0} M_{goal}$ instead, we would have obtained a twist in the goal frame.\n",
    "\n",
    "To convince ourselves of these observations, let's check finite differences. We can take a small displacement $\\delta q$, and check that the change in position ${}^0 T_{tool}(q + \\delta q)$ matches the linear prediction ${}^{0}J_{tool}^{(3)} \\delta q$:\n"
   ]
  },
  {
   "cell_type": "code",
   "execution_count": 47,
   "metadata": {},
   "outputs": [
    {
     "name": "stdout",
     "output_type": "stream",
     "text": [
      "Full Jacobian in the tool frame:\n",
      "With a Jac: [-0.75447968 -0.03968018  1.10036415  0.95355393 -1.24114453  0.21357735]\n",
      "With a log: [-0.75452135 -0.03957579  1.10033107  0.95345757 -1.24126806  0.21360736]\n",
      "\n",
      "Origin velocity in the world frame:\n",
      "With a Jac: [ 0.68955978  1.06256732 -0.19449361]\n",
      "With a log: [ 0.95239345  0.93041566 -0.09418387]\n",
      "With fdiff: [ 0.95232991  0.93048498 -0.09414145]\n"
     ]
    }
   ],
   "source": [
    "# Sample between -0.001 and 0.001\n",
    "EPS = 1e-4\n",
    "u = (2 * np.random.rand(robot.model.nv) - 1)\n",
    "dq = u*EPS\n",
    "\n",
    "# q2 = q+dq\n",
    "q2 = pin.integrate(robot.model, q, dq)\n",
    "\n",
    "# tool position for q\n",
    "pin.framesForwardKinematics(robot.model,robot.data,q)\n",
    "o_M_tool = robot.data.oMf[IDX_TOOL].copy()\n",
    "o_T_tool = o_M_tool.translation\n",
    "\n",
    "# tool position for q+dq\n",
    "pin.framesForwardKinematics(robot.model,robot.data,q2)\n",
    "o_M_tool2 = robot.data.oMf[IDX_TOOL].copy()\n",
    "o_T_tool2 = o_M_tool2.translation\n",
    "\n",
    "print(\"Full Jacobian in the tool frame:\")\n",
    "print(f\"With a Jac: {tool_Jtool @ u}\")\n",
    "print(f\"With a log: {pin.log(o_M_tool.inverse() * o_M_tool2).vector / EPS}\")\n",
    "\n",
    "print(\"\\nOrigin velocity in the world frame:\")\n",
    "print(f\"With a Jac: {o_Jtool3 @ u}\")\n",
    "print(f\"With a log: {o_M_tool.rotation @ pin.log(o_M_tool.inverse() * o_M_tool2).linear / EPS}\")\n",
    "print(f\"With fdiff: {(o_T_tool2 - o_T_tool) / EPS}\")"
   ]
  },
  {
   "cell_type": "markdown",
   "metadata": {},
   "source": [
    "#### Frame options in Pinocchio\n",
    "\n",
    "Most algorithms accept an option to specify in wich frame the spatial quantity should be expressed. The two basic options are `pin.LOCAL` and `pin.WORLD`. When related to velocity, *LOCAL* is the linear velocity of the center of the local frame (the TOOL_IDX frame, here) and the angular velocity, both expressed in the local frame. With *WORLD* frame, this is the instantaneous motion expressed in the world frame. It is also compose of a linear and an angular velocity but remember that the linear velocity is then difficult to interpret.\n",
    "\n",
    "A last option is given by convenience, which does not respect the mathematics of spatial velocity: `pin.LOCAL_WORLD_ALIGNED` gives the linear velocity of the center of the local frame and the angular velocity, both expressed in the world frame. It is convenient especially when we are interested to consider the linear velocity as the derivative of the position. This is what we did above.\n",
    "\n",
    "To recap:\n",
    "- `pin.LOCAL` gives $^{tool}\\xi_{tool} = [^{tool}v_{tool}, ^{tool}\\omega_{tool}]$\n",
    "- `pin.WORLD` gives $^{0}\\xi_{tool} =\\vphantom{.}^{0}X_{tool}\\vphantom{.}^{tool}\\xi_{tool}=\\left(\\begin{array}{c|c} \n",
    "  ^0R_{tool} & [^0T_{tool}]_{\\times}\\vphantom{.}^0R_{tool} \\\\ \n",
    "  \\hline \n",
    "  0 & ^0R_{tool}\n",
    "\\end{array} \n",
    "\\right)\\vphantom{.}^{tool}\\xi_{tool} = [^0v_{tool} + {}^0T_{tool} \\times {}^{0}\\omega_{tool}, ^{0}\\omega_{tool}]$\n",
    "- `pin.LOCAL_WORLD_ALIGNED` gives $[^{0}v_{tool}, ^{0}\\omega_{tool}]=\\left(\n",
    "\\begin{array}{c|c} \n",
    "  ^0R_{tool} & 0 \\\\ \n",
    "  \\hline \n",
    "  0 & ^0R_{tool}\n",
    "\\end{array} \n",
    "\\right)\\vphantom{.}^{0}\\xi_{tool}$\n"
   ]
  },
  {
   "cell_type": "code",
   "execution_count": 24,
   "metadata": {},
   "outputs": [
    {
     "name": "stdout",
     "output_type": "stream",
     "text": [
      "With spatial Jacobian:        [ 0.0976891  -1.7958886  -0.00451267 -1.49212747  0.21299268 -0.09006686]\n",
      "With adjoint * body Jacobian: [ 0.09768909 -1.7958886  -0.00451266 -1.49212747  0.21299269 -0.09006685]\n",
      "o_Jtool3 from body Jacobian:  [ 0.23639496 -1.00459703 -0.43116832]\n",
      "Local-world-aligned Jacobian: [ 0.23641321 -1.00453056 -0.43131318]\n"
     ]
    }
   ],
   "source": [
    "# 0_w_tool and tool_w_tool\n",
    "tool_Jtool = pin.computeFrameJacobian(robot.model,robot.data,q,IDX_TOOL, pin.LOCAL)\n",
    "o_Jtool = pin.computeFrameJacobian(robot.model,robot.data,q,IDX_TOOL, pin.WORLD)\n",
    "print(f\"With spatial Jacobian:        {o_Jtool @ u}\")\n",
    "print(f\"With adjoint * body Jacobian: {oMtool.action @ (tool_Jtool @ u)}\")\n",
    "\n",
    "# 0_v_tool and tool_w_tool\n",
    "o_Jtool3 = oMtool.rotation @ tool_Jtool[:3, :]\n",
    "new_o_Jtool3 = pin.computeFrameJacobian(robot.model,robot.data,q,IDX_TOOL, pin.LOCAL_WORLD_ALIGNED)[:3,:]\n",
    "print(f\"o_Jtool3 from body Jacobian:  {o_Jtool3 @ u}\")\n",
    "print(f\"Local-world-aligned Jacobian: {new_o_Jtool3 @ u}\")"
   ]
  },
  {
   "cell_type": "markdown",
   "metadata": {},
   "source": [
    "You can also check out [this video](https://www.youtube.com/watch?v=MLFtHLTprE4) for more illustrations on these three frame options."
   ]
  },
  {
   "cell_type": "markdown",
   "metadata": {},
   "source": [
    "## Inverse kinematics for the moving the robot effector\n",
    "We will first move only the robot end effector, to reach a target defined by a frame F_goal."
   ]
  },
  {
   "cell_type": "code",
   "execution_count": 25,
   "metadata": {},
   "outputs": [],
   "source": [
    "# Goal placement, and integration in the viewer of the goal.\n",
    "oMgoal = pin.SE3(pin.Quaternion(-0.5, 0.58, -0.39, 0.52).normalized().matrix(), np.array([1.2, .4, .7]))\n",
    "viz.addBox('goal', [.1,.1,.1], [ .1,.1,.5, .6])\n",
    "viz.applyConfiguration('goal',oMgoal)"
   ]
  },
  {
   "cell_type": "markdown",
   "metadata": {},
   "source": [
    "### Position the effector (3D)\n",
    "\n",
    "It is time to write your first control law. Write a for loop to simulate the control cycles of the robot. At each control cycle, you should:\n",
    "\n",
    "* compute the Jacobian 3D in the world frame `o_Jtool3`\n",
    "* compute the vector from the tool to the goal, expressed in world frame: `o_TG = o_goal - o_tool`\n",
    "* compute the control law as `vq = pinv(o_Jtool3) @ o_TG`\n",
    "* integrate this during a duration `DT` to get to a new configuration `q`.\n",
    "\n",
    "You might want to start from the following initial configuration, or from any random one.\n",
    "\n",
    "Note that [`numpy.linalg.pinv`](https://numpy.org/doc/stable/reference/generated/numpy.linalg.pinv.html) in `pinv(J)` computes $J^+$, the Moore-Penrose pseudo-inverse of $J$. Precisely, for any vector $e$, $J^+ e$ is the solution of the linear least square problem:\n",
    "$$\\min_x \\|Jx - e\\|_2^2.$$ (If $J$ is not full rank and there are multiple such solutions, it corresponds to the one of minimum L2 norm $\\| x \\|$.)"
   ]
  },
  {
   "cell_type": "code",
   "execution_count": 26,
   "metadata": {},
   "outputs": [],
   "source": [
    "# Robot initial configuration\n",
    "q0 = np.array([ 0.  ,  0.  ,  1.  ,  0.  ,  0.18,  1.37, -0.24, -0.98,  0.98,\n",
    "                0.  ,  0.  ,  0.  ,  0.  , -0.13,  0.  ,  0.  ,  0.  ,  0.  ])\n",
    "DT = 1e-2  # seconds"
   ]
  },
  {
   "cell_type": "markdown",
   "metadata": {},
   "source": [
    "It is a good idea to store the values of the error between tool and goal (`o_TG`), to plot them later. For that, simply append each `o_TG` computed at every control cycle to a list:"
   ]
  },
  {
   "cell_type": "code",
   "execution_count": 27,
   "metadata": {},
   "outputs": [
    {
     "name": "stdout",
     "output_type": "stream",
     "text": [
      "[array([-0.44933   , -0.22111897, -0.12433301]), array([-0.44483817, -0.21890621, -0.12308902]), array([-0.44039123, -0.21671562, -0.12185748]), array([-0.43598872, -0.21454696, -0.12063828]), array([-0.43163021, -0.21240003, -0.11943128]), array([-0.42731525, -0.2102746 , -0.11823637]), array([-0.42304342, -0.20817046, -0.11705342]), array([-0.41881427, -0.2060874 , -0.11588232]), array([-0.41462739, -0.20402519, -0.11472294]), array([-0.41048235, -0.20198364, -0.11357516]), array([-0.40637873, -0.19996253, -0.11243888]), array([-0.40231613, -0.19796167, -0.11131398]), array([-0.39829412, -0.19598084, -0.11020033]), array([-0.39431231, -0.19401984, -0.10909783]), array([-0.3903703 , -0.19207849, -0.10800637]), array([-0.38646768, -0.19015657, -0.10692584]), array([-0.38260406, -0.1882539 , -0.10585612]), array([-0.37877906, -0.18637028, -0.10479711]), array([-0.37499229, -0.18450552, -0.1037487 ]), array([-0.37124336, -0.18265944, -0.10271079]), array([-0.3675319 , -0.18083183, -0.10168326]), array([-0.36385753, -0.17902253, -0.10066602]), array([-0.36021989, -0.17723134, -0.09965897]), array([-0.3566186 , -0.17545809, -0.09866199]), array([-0.35305331, -0.17370259, -0.09767499]), array([-0.34952365, -0.17196466, -0.09669787]), array([-0.34602926, -0.17024414, -0.09573053]), array([-0.34256981, -0.16854084, -0.09477287]), array([-0.33914493, -0.16685459, -0.0938248 ]), array([-0.33575428, -0.16518522, -0.09288621]), array([-0.33239752, -0.16353257, -0.09195702]), array([-0.32907431, -0.16189646, -0.09103713]), array([-0.32578432, -0.16027672, -0.09012644]), array([-0.32252721, -0.15867321, -0.08922487]), array([-0.31930266, -0.15708574, -0.08833232]), array([-0.31611034, -0.15551417, -0.08744871]), array([-0.31294992, -0.15395833, -0.08657393]), array([-0.3098211 , -0.15241806, -0.08570792]), array([-0.30672355, -0.15089321, -0.08485056]), array([-0.30365696, -0.14938362, -0.08400179]), array([-0.30062102, -0.14788914, -0.08316151]), array([-0.29761543, -0.14640963, -0.08232964]), array([-0.29463988, -0.14494492, -0.0815061 ]), array([-0.29169408, -0.14349487, -0.0806908 ]), array([-0.28877772, -0.14205934, -0.07988365]), array([-0.28589051, -0.14063817, -0.07908458]), array([-0.28303216, -0.13923123, -0.07829351]), array([-0.28020238, -0.13783837, -0.07751035]), array([-0.27740089, -0.13645945, -0.07673503]), array([-0.27462741, -0.13509433, -0.07596747]), array([-0.27188164, -0.13374288, -0.07520759]), array([-0.26916333, -0.13240495, -0.07445531]), array([-0.26647218, -0.13108041, -0.07371056]), array([-0.26380794, -0.12976912, -0.07297327]), array([-0.26117033, -0.12847096, -0.07224334]), array([-0.25855909, -0.1271858 , -0.07152073]), array([-0.25597395, -0.12591349, -0.07080534]), array([-0.25341465, -0.12465392, -0.07009711]), array([-0.25088093, -0.12340695, -0.06939597]), array([-0.24837254, -0.12217246, -0.06870184]), array([-0.24588923, -0.12095033, -0.06801466]), array([-0.24343074, -0.11974042, -0.06733435]), array([-0.24099683, -0.11854262, -0.06666085]), array([-0.23858725, -0.11735681, -0.06599409]), array([-0.23620176, -0.11618287, -0.065334  ]), array([-0.23384011, -0.11502067, -0.06468051]), array([-0.23150207, -0.11387011, -0.06403356]), array([-0.22918741, -0.11273105, -0.06339309]), array([-0.22689588, -0.1116034 , -0.06275902]), array([-0.22462726, -0.11048703, -0.0621313 ]), array([-0.22238133, -0.10938183, -0.06150985]), array([-0.22015784, -0.10828769, -0.06089463]), array([-0.21795658, -0.10720449, -0.06028556]), array([-0.21577733, -0.10613214, -0.05968258]), array([-0.21361986, -0.10507052, -0.05908563]), array([-0.21148396, -0.10401952, -0.05849466]), array([-0.20936942, -0.10297903, -0.0579096 ]), array([-0.20727601, -0.10194896, -0.05733039]), array([-0.20520353, -0.10092919, -0.05675698]), array([-0.20315178, -0.09991963, -0.0561893 ]), array([-0.20112053, -0.09892017, -0.05562731]), array([-0.19910959, -0.09793071, -0.05507093]), array([-0.19711875, -0.09695115, -0.05452012]), array([-0.19514782, -0.09598139, -0.05397482]), array([-0.19319659, -0.09502133, -0.05343498]), array([-0.19126487, -0.09407088, -0.05290054]), array([-0.18935246, -0.09312994, -0.05237144]), array([-0.18745916, -0.09219841, -0.05184764]), array([-0.1855848 , -0.0912762 , -0.05132907]), array([-0.18372918, -0.09036322, -0.0508157 ]), array([-0.1818921 , -0.08945938, -0.05030746]), array([-0.1800734 , -0.08856457, -0.0498043 ]), array([-0.17827287, -0.08767872, -0.04930618]), array([-0.17649035, -0.08680174, -0.04881304]), array([-0.17472565, -0.08593352, -0.04832483]), array([-0.17297859, -0.085074  , -0.04784151]), array([-0.171249  , -0.08422307, -0.04736302]), array([-0.1695367 , -0.08338065, -0.04688932]), array([-0.16784151, -0.08254667, -0.04642035]), array([-0.16616328, -0.08172102, -0.04595608]), array([-0.16450183, -0.08090364, -0.04549645]), array([-0.16285698, -0.08009444, -0.04504142]), array([-0.16122858, -0.07929333, -0.04459095]), array([-0.15961646, -0.07850023, -0.04414497]), array([-0.15802046, -0.07771507, -0.04370346]), array([-0.15644042, -0.07693777, -0.04326637]), array([-0.15487617, -0.07616824, -0.04283365]), array([-0.15332756, -0.07540641, -0.04240525]), array([-0.15179444, -0.0746522 , -0.04198114]), array([-0.15027664, -0.07390553, -0.04156128]), array([-0.14877402, -0.07316634, -0.04114561]), array([-0.14728642, -0.07243454, -0.0407341 ]), array([-0.14581369, -0.07171006, -0.04032671]), array([-0.14435569, -0.07099283, -0.03992339]), array([-0.14291227, -0.07028277, -0.03952411]), array([-0.14148327, -0.06957982, -0.03912882]), array([-0.14006857, -0.0688839 , -0.03873748]), array([-0.13866801, -0.06819494, -0.03835006]), array([-0.13728145, -0.06751287, -0.03796652]), array([-0.13590875, -0.06683763, -0.03758681]), array([-0.13454978, -0.06616914, -0.0372109 ]), array([-0.1332044 , -0.06550734, -0.03683875]), array([-0.13187247, -0.06485216, -0.03647032]), array([-0.13055385, -0.06420353, -0.03610557]), array([-0.12924842, -0.06356139, -0.03574448]), array([-0.12795604, -0.06292568, -0.03538699]), array([-0.12667659, -0.06229632, -0.03503309]), array([-0.12540992, -0.06167326, -0.03468272]), array([-0.12415592, -0.06105643, -0.03433585]), array([-0.12291446, -0.06044577, -0.03399246]), array([-0.12168541, -0.05984122, -0.0336525 ]), array([-0.12046865, -0.05924272, -0.03331594]), array([-0.11926405, -0.05865021, -0.03298275]), array([-0.1180715 , -0.05806362, -0.03265289]), array([-0.11689088, -0.0574829 , -0.03232633]), array([-0.11572205, -0.05690799, -0.03200303]), array([-0.11456492, -0.05633883, -0.03168297]), array([-0.11341935, -0.05577536, -0.03136611]), array([-0.11228524, -0.05521753, -0.03105242]), array([-0.11116246, -0.05466528, -0.03074187]), array([-0.11005091, -0.05411855, -0.03043442]), array([-0.10895048, -0.0535773 , -0.03013005]), array([-0.10786105, -0.05304145, -0.02982872]), array([-0.10678251, -0.05251097, -0.02953041]), array([-0.10571476, -0.05198579, -0.02923508]), array([-0.10465768, -0.05146587, -0.0289427 ]), array([-0.10361117, -0.05095114, -0.02865325]), array([-0.10257513, -0.05044157, -0.0283667 ]), array([-0.10154944, -0.04993709, -0.02808301]), array([-0.10053401, -0.04943766, -0.02780215]), array([-0.09952873, -0.04894322, -0.02752411]), array([-0.09853351, -0.04845373, -0.02724884]), array([-0.09754823, -0.04796913, -0.02697633]), array([-0.09657281, -0.04748939, -0.02670655]), array([-0.09560714, -0.04701444, -0.02643946]), array([-0.09465113, -0.04654424, -0.02617505]), array([-0.09370467, -0.04607874, -0.02591328]), array([-0.09276768, -0.0456179 , -0.02565413]), array([-0.09184005, -0.04516167, -0.02539757]), array([-0.09092171, -0.04471001, -0.02514357]), array([-0.09001254, -0.04426286, -0.02489212]), array([-0.08911247, -0.04382018, -0.02464318]), array([-0.08822139, -0.04338193, -0.02439673]), array([-0.08733922, -0.04294807, -0.02415274]), array([-0.08646588, -0.04251854, -0.0239112 ]), array([-0.08560127, -0.04209331, -0.02367207]), array([-0.0847453 , -0.04167234, -0.02343533]), array([-0.08389789, -0.04125557, -0.02320097]), array([-0.08305895, -0.04084298, -0.02296894]), array([-0.08222841, -0.04043451, -0.02273924]), array([-0.08140617, -0.04003012, -0.02251183]), array([-0.08059214, -0.03962978, -0.0222867 ]), array([-0.07978626, -0.03923345, -0.02206381]), array([-0.07898844, -0.03884107, -0.02184316]), array([-0.07819859, -0.03845263, -0.02162472]), array([-0.07741665, -0.03806806, -0.02140846]), array([-0.07664252, -0.03768735, -0.02119436]), array([-0.07587613, -0.03731044, -0.0209824 ]), array([-0.0751174 , -0.0369373 , -0.02077257]), array([-0.07436626, -0.0365679 , -0.02056483]), array([-0.07362263, -0.03620219, -0.02035917]), array([-0.07288644, -0.03584013, -0.02015556]), array([-0.07215761, -0.0354817 , -0.019954  ]), array([-0.07143606, -0.03512685, -0.01975445]), array([-0.07072173, -0.03477556, -0.01955689]), array([-0.07001455, -0.03442777, -0.01936131]), array([-0.06931443, -0.03408347, -0.01916769]), array([-0.06862132, -0.0337426 , -0.018976  ]), array([-0.06793513, -0.03340515, -0.01878623]), array([-0.06725581, -0.03307107, -0.01859836]), array([-0.06658328, -0.03274033, -0.01841236]), array([-0.06591747, -0.03241291, -0.01822823]), array([-0.06525833, -0.03208875, -0.01804594]), array([-0.06460577, -0.03176784, -0.01786547]), array([-0.06395974, -0.03145014, -0.01768681]), array([-0.06332016, -0.03113561, -0.01750993]), array([-0.06268699, -0.03082423, -0.01733482]), array([-0.06206014, -0.03051597, -0.01716147]), array([-0.06143956, -0.03021079, -0.01698984]), array([-0.06082519, -0.02990866, -0.01681994]), array([-0.06021696, -0.02960955, -0.01665173]), array([-0.05961481, -0.02931343, -0.0164852 ]), array([-0.05901869, -0.02902028, -0.01632034]), array([-0.05842852, -0.02873005, -0.01615713]), array([-0.05784426, -0.02844273, -0.01599555]), array([-0.05726583, -0.02815829, -0.01583559]), array([-0.0566932 , -0.02787669, -0.01567723]), array([-0.05612628, -0.0275979 , -0.01552045]), array([-0.05556504, -0.0273219 , -0.01536524]), array([-0.05500941, -0.02704867, -0.01521158]), array([-0.05445933, -0.02677816, -0.01505946]), array([-0.05391476, -0.02651036, -0.01490886]), array([-0.05337563, -0.02624524, -0.01475976]), array([-0.05284189, -0.02598277, -0.01461216]), array([-0.05231349, -0.02572293, -0.01446603]), array([-0.05179037, -0.02546569, -0.01432136]), array([-0.05127248, -0.02521101, -0.01417815]), array([-0.05075977, -0.02495889, -0.01403636]), array([-0.05025219, -0.02470929, -0.01389599]), array([-0.04974968, -0.02446218, -0.01375702]), array([-0.0492522 , -0.02421754, -0.01361945]), array([-0.04875969, -0.02397535, -0.01348325]), array([-0.04827211, -0.02373559, -0.01334841]), array([-0.0477894 , -0.02349822, -0.01321492]), array([-0.04731152, -0.02326322, -0.01308277]), array([-0.04683842, -0.02303058, -0.01295194]), array([-0.04637005, -0.02280026, -0.01282241]), array([-0.04590636, -0.02257224, -0.01269418]), array([-0.04544731, -0.02234651, -0.01256724]), array([-0.04499285, -0.02212303, -0.01244156]), array([-0.04454294, -0.02190179, -0.01231714]), array([-0.04409752, -0.02168276, -0.01219396]), array([-0.04365655, -0.02146592, -0.01207202]), array([-0.04322   , -0.02125125, -0.0119513 ]), array([-0.04278781, -0.02103873, -0.01183178]), array([-0.04235995, -0.02082833, -0.01171346]), array([-0.04193636, -0.02062004, -0.01159632]), array([-0.041517  , -0.02041383, -0.01148035]), array([-0.04110184, -0.02020968, -0.01136555]), array([-0.04069084, -0.02000757, -0.01125189]), array([-0.04028394, -0.01980749, -0.01113936]), array([-0.03988111, -0.0196094 , -0.01102797]), array([-0.03948231, -0.0194133 , -0.01091768]), array([-0.03908749, -0.01921916, -0.0108085 ]), array([-0.03869663, -0.01902696, -0.01070042]), array([-0.03830967, -0.01883668, -0.01059341]), array([-0.03792658, -0.01864831, -0.01048747]), array([-0.03754732, -0.01846181, -0.01038259]), array([-0.03717186, -0.01827719, -0.01027877]), array([-0.03680015, -0.01809441, -0.01017597]), array([-0.03643216, -0.01791346, -0.01007421]), array([-0.03606784, -0.01773431, -0.00997347]), array([-0.03570717, -0.01755696, -0.00987373]), array([-0.03535011, -0.01738139, -0.00977499]), array([-0.03499661, -0.01720757, -0.00967724]), array([-0.03464666, -0.01703548, -0.00958046]), array([-0.0343002 , -0.01686512, -0.00948466]), array([-0.0339572 , -0.01669646, -0.00938981]), array([-0.03361764, -0.01652949, -0.00929591]), array([-0.03328147, -0.01636419, -0.00920294]), array([-0.03294866, -0.01620054, -0.00911091]), array([-0.03261918, -0.01603853, -0.0090198 ]), array([-0.03229299, -0.01587814, -0.0089296 ]), array([-0.03197007, -0.01571935, -0.0088403 ]), array([-0.03165037, -0.01556215, -0.0087519 ]), array([-0.03133388, -0.01540653, -0.00866438]), array([-0.03102054, -0.01525246, -0.00857773]), array([-0.03071034, -0.01509993, -0.00849195]), array([-0.03040325, -0.01494892, -0.00840703]), array([-0.03009922, -0.01479943, -0.00832296]), array([-0.02979823, -0.01465143, -0.00823973]), array([-0.02950026, -0.01450491, -0.00815733]), array([-0.02920526, -0.01435985, -0.00807575]), array([-0.02891321, -0.01421625, -0.00799499]), array([-0.02862408, -0.01407408, -0.00791504]), array([-0.02833785, -0.01393334, -0.00783589]), array([-0.02805447, -0.013794  , -0.00775753]), array([-0.02777393, -0.01365606, -0.00767995]), array([-0.0274962 , -0.01351949, -0.00760315]), array([-0.02722124, -0.01338429, -0.00752712]), array([-0.02694903, -0.01325045, -0.00745185]), array([-0.02667955, -0.01311794, -0.00737733]), array([-0.02641276, -0.01298675, -0.00730355]), array([-0.02614863, -0.01285688, -0.00723051]), array([-0.02588715, -0.01272831, -0.00715821]), array([-0.02562828, -0.01260102, -0.00708662]), array([-0.025372  , -0.01247501, -0.00701576]), array([-0.02511829, -0.01235026, -0.0069456 ]), array([-0.02486711, -0.01222675, -0.00687614]), array([-0.02461844, -0.01210448, -0.00680738]), array([-0.02437226, -0.01198343, -0.0067393 ]), array([-0.02412854, -0.01186359, -0.00667191]), array([-0.02388726, -0.01174495, -0.00660519]), array([-0.02364839, -0.0116275 , -0.00653913]), array([-0.02341191, -0.01151122, -0.00647374]), array([-0.02317779, -0.01139611, -0.006409  ]), array([-0.02294602, -0.01128214, -0.00634491]), array([-0.02271656, -0.01116932, -0.00628146]), array([-0.0224894 , -0.01105762, -0.00621865]), array([-0.02226451, -0.01094704, -0.00615646]), array([-0.02204187, -0.01083757, -0.00609489]), array([-0.02182145, -0.01072919, -0.00603394]), array([-0.02160324, -0.0106219 , -0.0059736 ]), array([-0.02138721, -0.01051568, -0.00591387]), array([-0.02117334, -0.01041052, -0.00585473]), array([-0.02096161, -0.01030641, -0.00579618]), array([-0.020752  , -0.01020334, -0.00573822]), array([-0.02054448, -0.01010131, -0.00568083]), array([-0.02033904, -0.01000029, -0.00562402]), array([-0.02013565, -0.00990029, -0.00556778]), array([-0.01993429, -0.00980128, -0.0055121 ]), array([-0.01973495, -0.00970327, -0.00545698]), array([-0.01953761, -0.00960623, -0.00540241]), array([-0.01934223, -0.00951017, -0.00534839]), array([-0.01914881, -0.00941506, -0.0052949 ]), array([-0.01895733, -0.00932091, -0.00524195]), array([-0.01876776, -0.0092277 , -0.00518953]), array([-0.01858008, -0.00913542, -0.00513764]), array([-0.01839428, -0.00904406, -0.00508626]), array([-0.01821034, -0.00895362, -0.0050354 ]), array([-0.01802824, -0.00886408, -0.00498504]), array([-0.01784796, -0.00877544, -0.00493519]), array([-0.01766948, -0.00868768, -0.00488584]), array([-0.01749279, -0.00860081, -0.00483698]), array([-0.01731786, -0.0085148 , -0.00478861]), array([-0.01714469, -0.00842965, -0.00474072]), array([-0.01697324, -0.00834535, -0.00469331]), array([-0.01680351, -0.00826189, -0.00464638]), array([-0.01663548, -0.00817927, -0.00459992]), array([-0.01646912, -0.00809748, -0.00455392]), array([-0.01630443, -0.0080165 , -0.00450838]), array([-0.01614139, -0.00793634, -0.00446329]), array([-0.01597998, -0.00785697, -0.00441866]), array([-0.01582018, -0.0077784 , -0.00437447]), array([-0.01566198, -0.00770061, -0.00433073]), array([-0.01550536, -0.00762361, -0.00428742]), array([-0.01535031, -0.00754737, -0.00424454]), array([-0.01519681, -0.00747189, -0.0042021 ]), array([-0.01504484, -0.00739717, -0.00416008]), array([-0.01489439, -0.0073232 , -0.00411847]), array([-0.01474545, -0.00724997, -0.00407729]), array([-0.014598  , -0.00717747, -0.00403652]), array([-0.01445202, -0.00710569, -0.00399615]), array([-0.0143075 , -0.00703463, -0.00395619]), array([-0.01416443, -0.00696429, -0.00391663]), array([-0.01402278, -0.00689464, -0.00387746]), array([-0.01388256, -0.00682569, -0.00383868]), array([-0.01374373, -0.00675744, -0.0038003 ]), array([-0.0136063 , -0.00668986, -0.00376229]), array([-0.01347023, -0.00662296, -0.00372467]), array([-0.01333553, -0.00655673, -0.00368742]), array([-0.01320218, -0.00649116, -0.00365055]), array([-0.01307016, -0.00642625, -0.00361404]), array([-0.01293946, -0.00636199, -0.0035779 ]), array([-0.01281006, -0.00629837, -0.00354212]), array([-0.01268196, -0.00623538, -0.0035067 ]), array([-0.01255515, -0.00617303, -0.00347163]), array([-0.0124296 , -0.00611129, -0.00343692]), array([-0.0123053 , -0.00605018, -0.00340255]), array([-0.01218225, -0.00598968, -0.00336852]), array([-0.01206043, -0.00592978, -0.00333484]), array([-0.01193982, -0.00587048, -0.00330149]), array([-0.01182043, -0.00581178, -0.00326847]), array([-0.01170222, -0.00575366, -0.00323579]), array([-0.0115852 , -0.00569612, -0.00320343]), array([-0.01146935, -0.00563916, -0.0031714 ]), array([-0.01135466, -0.00558277, -0.00313968]), array([-0.01124111, -0.00552694, -0.00310828]), array([-0.0111287 , -0.00547167, -0.0030772 ]), array([-0.01101741, -0.00541695, -0.00304643]), array([-0.01090724, -0.00536278, -0.00301596]), array([-0.01079817, -0.00530915, -0.0029858 ]), array([-0.01069019, -0.00525606, -0.00295595]), array([-0.01058329, -0.0052035 , -0.00292639]), array([-0.01047745, -0.00515146, -0.00289712]), array([-0.01037268, -0.00509995, -0.00286815]), array([-0.01026895, -0.00504895, -0.00283947]), array([-0.01016627, -0.00499846, -0.00281107]), array([-0.0100646 , -0.00494847, -0.00278296]), array([-0.00996396, -0.00489899, -0.00275513]), array([-0.00986432, -0.00485   , -0.00272758]), array([-0.00976568, -0.0048015 , -0.00270031]), array([-0.00966802, -0.00475348, -0.0026733 ]), array([-0.00957134, -0.00470595, -0.00264657]), array([-0.00947563, -0.00465889, -0.0026201 ]), array([-0.00938087, -0.0046123 , -0.0025939 ]), array([-0.00928706, -0.00456617, -0.00256796]), array([-0.00919419, -0.00452051, -0.00254228]), array([-0.00910225, -0.0044753 , -0.00251686]), array([-0.00901123, -0.00443055, -0.00249169]), array([-0.00892112, -0.00438625, -0.00246677]), array([-0.00883191, -0.00434238, -0.00244211]), array([-0.00874359, -0.00429896, -0.00241769]), array([-0.00865615, -0.00425597, -0.00239351]), array([-0.00856959, -0.00421341, -0.00236957]), array([-0.0084839 , -0.00417127, -0.00234588]), array([-0.00839906, -0.00412956, -0.00232242]), array([-0.00831507, -0.00408826, -0.00229919]), array([-0.00823192, -0.00404738, -0.0022762 ]), array([-0.0081496 , -0.00400691, -0.00225344]), array([-0.0080681 , -0.00396684, -0.00223091]), array([-0.00798742, -0.00392717, -0.0022086 ]), array([-0.00790755, -0.0038879 , -0.00218651]), array([-0.00782847, -0.00384902, -0.00216464]), array([-0.00775019, -0.00381053, -0.002143  ]), array([-0.00767269, -0.00377242, -0.00212157]), array([-0.00759596, -0.0037347 , -0.00210035]), array([-0.00752   , -0.00369735, -0.00207935]), array([-0.0074448 , -0.00366038, -0.00205855]), array([-0.00737036, -0.00362377, -0.00203797]), array([-0.00729665, -0.00358753, -0.00201759]), array([-0.00722369, -0.00355166, -0.00199741]), array([-0.00715145, -0.00351614, -0.00197744]), array([-0.00707993, -0.00348098, -0.00195766]), array([-0.00700914, -0.00344617, -0.00193809]), array([-0.00693904, -0.00341171, -0.00191871]), array([-0.00686965, -0.00337759, -0.00189952]), array([-0.00680096, -0.00334381, -0.00188052]), array([-0.00673295, -0.00331038, -0.00186172]), array([-0.00666562, -0.00327727, -0.0018431 ]), array([-0.00659896, -0.0032445 , -0.00182467]), array([-0.00653297, -0.00321205, -0.00180642]), array([-0.00646765, -0.00317993, -0.00178836]), array([-0.00640297, -0.00314813, -0.00177048]), array([-0.00633894, -0.00311665, -0.00175277]), array([-0.00627555, -0.00308548, -0.00173524]), array([-0.0062128 , -0.00305463, -0.00171789]), array([-0.00615067, -0.00302408, -0.00170071]), array([-0.00608916, -0.00299384, -0.0016837 ]), array([-0.00602827, -0.0029639 , -0.00166687]), array([-0.00596799, -0.00293426, -0.0016502 ]), array([-0.00590831, -0.00290492, -0.0016337 ]), array([-0.00584922, -0.00287587, -0.00161736]), array([-0.00579073, -0.00284711, -0.00160119]), array([-0.00573283, -0.00281864, -0.00158517]), array([-0.0056755 , -0.00279046, -0.00156932]), array([-0.00561874, -0.00276255, -0.00155363]), array([-0.00556256, -0.00273492, -0.00153809]), array([-0.00550693, -0.00270758, -0.00152271]), array([-0.00545186, -0.0026805 , -0.00150748]), array([-0.00539734, -0.00265369, -0.00149241]), array([-0.00534337, -0.00262716, -0.00147749]), array([-0.00528994, -0.00260089, -0.00146271]), array([-0.00523704, -0.00257488, -0.00144808]), array([-0.00518467, -0.00254913, -0.0014336 ]), array([-0.00513282, -0.00252364, -0.00141927]), array([-0.00508149, -0.0024984 , -0.00140507]), array([-0.00503068, -0.00247342, -0.00139102]), array([-0.00498037, -0.00244868, -0.00137711]), array([-0.00493057, -0.00242419, -0.00136334]), array([-0.00488126, -0.00239995, -0.00134971]), array([-0.00483245, -0.00237595, -0.00133621]), array([-0.00478412, -0.00235219, -0.00132285]), array([-0.00473628, -0.00232867, -0.00130962]), array([-0.00468892, -0.00230538, -0.00129652]), array([-0.00464203, -0.00228233, -0.00128356]), array([-0.00459561, -0.00225951, -0.00127072]), array([-0.00454966, -0.00223691, -0.00125802]), array([-0.00450416, -0.00221454, -0.00124544]), array([-0.00445912, -0.0021924 , -0.00123298]), array([-0.00441453, -0.00217047, -0.00122065]), array([-0.00437038, -0.00214877, -0.00120844]), array([-0.00432668, -0.00212728, -0.00119636]), array([-0.00428341, -0.00210601, -0.0011844 ]), array([-0.00424058, -0.00208495, -0.00117255]), array([-0.00419817, -0.0020641 , -0.00116083]), array([-0.00415619, -0.00204346, -0.00114922]), array([-0.00411463, -0.00202302, -0.00113773]), array([-0.00407348, -0.00200279, -0.00112635]), array([-0.00403275, -0.00198276, -0.00111509]), array([-0.00399242, -0.00196294, -0.00110393]), array([-0.0039525 , -0.00194331, -0.0010929 ]), array([-0.00391297, -0.00192387, -0.00108197]), array([-0.00387384, -0.00190463, -0.00107115]), array([-0.0038351 , -0.00188559, -0.00106044]), array([-0.00379675, -0.00186673, -0.00104983]), array([-0.00375878, -0.00184806, -0.00103933]), array([-0.0037212 , -0.00182958, -0.00102894]), array([-0.00368398, -0.00181129, -0.00101865]), array([-0.00364714, -0.00179317, -0.00100846]), array([-0.00361067, -0.00177524, -0.00099838]), array([-0.00357457, -0.00175749, -0.00098839]), array([-0.00353882, -0.00173992, -0.00097851]), array([-0.00350343, -0.00172252, -0.00096873]), array([-0.0034684 , -0.00170529, -0.00095904]), array([-0.00343371, -0.00168824, -0.00094945]), array([-0.00339938, -0.00167136, -0.00093995]), array([-0.00336538, -0.00165464, -0.00093055]), array([-0.00333173, -0.0016381 , -0.00092125]), array([-0.00329841, -0.00162171, -0.00091204]), array([-0.00326543, -0.0016055 , -0.00090292]), array([-0.00323277, -0.00158944, -0.00089389]), array([-0.00320045, -0.00157355, -0.00088495]), array([-0.00316844, -0.00155781, -0.0008761 ]), array([-0.00313676, -0.00154223, -0.00086734]), array([-0.00310539, -0.00152681, -0.00085866]), array([-0.00307434, -0.00151154, -0.00085008]), array([-0.00304359, -0.00149643, -0.00084158]), array([-0.00301316, -0.00148146, -0.00083316]), array([-0.00298303, -0.00146665, -0.00082483])]\n"
     ]
    }
   ],
   "source": [
    "q = q0.copy()\n",
    "herr = [] # Log the value of the error between tool and goal.\n",
    "# Loop on an inverse kinematics for 200 iterations.\n",
    "for i in range(500):  # Integrate over 2 second of robot life\n",
    "\n",
    "    # Run the algorithms that outputs values in robot.data\n",
    "    pin.framesForwardKinematics(robot.model,robot.data,q)\n",
    "    pin.computeJointJacobians(robot.model,robot.data,q)\n",
    "\n",
    "    # Placement from world frame o to frame f oMtool\n",
    "    oMtool = robot.data.oMf[IDX_TOOL]\n",
    "\n",
    "    # 3D jacobian in world frame\n",
    "    o_Jtool3 = pin.computeFrameJacobian(robot.model,robot.data,q,IDX_TOOL,pin.LOCAL_WORLD_ALIGNED)[:3,:]\n",
    "\n",
    "    # vector from tool to goal, in world frame\n",
    "    o_TG = oMtool.translation-oMgoal.translation\n",
    "    \n",
    "    # Control law by least square\n",
    "    vq = -pinv(o_Jtool3)@o_TG\n",
    "\n",
    "    q = pin.integrate(robot.model,q, vq * DT)\n",
    "    # viz.display(q)\n",
    "    time.sleep(1e-3)\n",
    "\n",
    "    herr.append(o_TG) \n",
    "print(herr)"
   ]
  },
  {
   "cell_type": "markdown",
   "metadata": {},
   "source": [
    "And the solution if you need it"
   ]
  },
  {
   "cell_type": "code",
   "execution_count": 35,
   "metadata": {},
   "outputs": [
    {
     "name": "stdout",
     "output_type": "stream",
     "text": [
      "[[ 1.00000000e+00  0.00000000e+00 -1.78881033e-01  0.00000000e+00\n",
      "  -1.64881033e-01  3.04587769e-01 -1.01843607e-01 -2.90832161e-01\n",
      "  -3.01814129e-13  2.43634416e-02  0.00000000e+00  0.00000000e+00\n",
      "   0.00000000e+00  0.00000000e+00  0.00000000e+00]\n",
      " [ 0.00000000e+00  1.00000000e+00  7.50669996e-01  0.00000000e+00\n",
      "   6.57619996e-01 -6.19955564e-02 -1.69366652e-01  2.58332775e-01\n",
      "   2.46469511e-13  4.05165787e-02  0.00000000e+00  0.00000000e+00\n",
      "   0.00000000e+00  0.00000000e+00  0.00000000e+00]\n",
      " [ 0.00000000e+00  0.00000000e+00  0.00000000e+00  1.00000000e+00\n",
      "   0.00000000e+00  4.86521660e-01 -2.69770063e-01 -5.23911390e-02\n",
      "  -4.07451850e-14  6.45354907e-02  0.00000000e+00  0.00000000e+00\n",
      "   0.00000000e+00  0.00000000e+00  0.00000000e+00]]\n",
      "[[ 3.04543020e-01  5.06457234e-01  3.25705280e-01  8.06693634e-01\n",
      "   2.82843037e-01  4.53835907e-01 -3.34414518e-01 -1.91950300e-12\n",
      "  -4.44089210e-18  8.00000000e-02  0.00000000e+00  0.00000000e+00\n",
      "   0.00000000e+00  0.00000000e+00  0.00000000e+00]\n",
      " [ 7.70490138e-01 -6.28915944e-01 -6.09934401e-01  1.03969627e-01\n",
      "  -5.40626910e-01  3.24255341e-01  1.17382808e-12 -3.92000000e-01\n",
      "  -3.91726651e-13 -1.91812211e-24  0.00000000e+00  0.00000000e+00\n",
      "   0.00000000e+00  0.00000000e+00  0.00000000e+00]\n",
      " [ 5.59998658e-01  5.89886265e-01  3.42636782e-01 -5.81752265e-01\n",
      "   2.95587846e-01 -1.49036663e-01  6.91313086e-13  2.00000000e-02\n",
      "  -2.96654885e-41  0.00000000e+00  0.00000000e+00  0.00000000e+00\n",
      "   0.00000000e+00  0.00000000e+00  0.00000000e+00]]\n"
     ]
    }
   ],
   "source": [
    "# %load tp3/generated/inverse_kinematics_3d_loop\n",
    "q = q0.copy()\n",
    "herr = [] # Log the value of the error between tool and goal.\n",
    "# Loop on an inverse kinematics for 200 iterations.\n",
    "print(pin.computeFrameJacobian(robot.model,robot.data,q,IDX_TOOL,pin.LOCAL_WORLD_ALIGNED)[:3,:])\n",
    "print(pin.computeFrameJacobian(robot.model,robot.data,q,IDX_TOOL,pin.LOCAL)[:3,:])\n",
    "for i in range(500):  # Integrate over 2 second of robot life\n",
    "\n",
    "    # Run the algorithms that outputs values in robot.data\n",
    "    pin.framesForwardKinematics(robot.model,robot.data,q)\n",
    "    pin.computeJointJacobians(robot.model,robot.data,q)\n",
    "\n",
    "    # Placement from world frame o to frame f oMtool\n",
    "    oMtool = robot.data.oMf[IDX_TOOL]\n",
    "\n",
    "    # 3D jacobian in world frame\n",
    "    o_Jtool3 = pin.computeFrameJacobian(robot.model,robot.data,q,IDX_TOOL,pin.LOCAL_WORLD_ALIGNED)[:3,:]\n",
    "\n",
    "    # vector from tool to goal, in world frame\n",
    "    o_TG = oMtool.translation-oMgoal.translation\n",
    "    \n",
    "    # Control law by least square\n",
    "    vq = -pinv(o_Jtool3)@o_TG\n",
    "\n",
    "    q = pin.integrate(robot.model,q, vq * DT)\n",
    "    viz.display(q)\n",
    "    time.sleep(1e-3)\n",
    "\n",
    "    herr.append(o_TG) \n"
   ]
  },
  {
   "cell_type": "markdown",
   "metadata": {},
   "source": [
    "It is interesting to plot the behavior of the robot. If the error at each iteration has been stored as a list of 3x1 matrices, the following code plots it."
   ]
  },
  {
   "cell_type": "code",
   "execution_count": 31,
   "metadata": {},
   "outputs": [
    {
     "data": {
      "image/png": "[encoded data removed]",
      "text/plain": [
       "<Figure size 640x480 with 1 Axes>"
      ]
     },
     "metadata": {},
     "output_type": "display_data"
    }
   ],
   "source": [
    "plt.plot(herr)\n",
    "plt.xlabel('control cycle (iter)')\n",
    "plt.ylabel('error (m)');"
   ]
  },
  {
   "cell_type": "markdown",
   "metadata": {},
   "source": [
    "We can observe that each component of the error converges to zero following an exponential trajetory. The convergence is asymptotic. To fasten the convergence, increase the gain of the control law ($v_q = - \\lambda J^+ e$), where the gain $\\lambda$ was implicitly one so far."
   ]
  },
  {
   "cell_type": "markdown",
   "metadata": {},
   "source": [
    "### Place the end effector (6D)\n",
    "The previous control law brings the center of the effector toward the center of the goal frame. However, it does not control the orientation of the end effector: the axes of the two frames $F_{tool}$ and $F_{goal}$ do not converge.\n",
    "\n",
    "We now want to modify the control law to take into account both tool translation and tool orientation. For that, let us compute the error in $SE(3)$. We will use the full ${}^{0} J_{tool}$ rather than ${}^o J_{tool3}$, and compute the error vector as the generalized difference between the tool frame and the goal frame:\n",
    "\n",
    "$$^{tool}M_{goal} = \\vphantom{.}^{0}M_{tool}^{-1} \\vphantom{.}^{0}M_{goal}$$\n",
    "$$^{tool}\\xi_{goal} = \\vphantom{.}^{0}M_{tool} \\ominus_{SE(3)} \\vphantom{.}^{0}M_{tool} = \\log(^{tool}M_{goal})$$\n",
    "where $^{tool}\\xi_{goal}$ is a twist in the local frame."
   ]
  },
  {
   "cell_type": "code",
   "execution_count": 41,
   "metadata": {},
   "outputs": [
    {
     "name": "stdout",
     "output_type": "stream",
     "text": [
      "  R =\n",
      "   0.999925  -0.0103937  0.00647427\n",
      "  0.0103867    0.999945  0.00111677\n",
      "-0.00648552 -0.00104944    0.999978\n",
      "  p =  0.00172505 -0.00058056  0.00327172\n",
      "\n",
      "  v =   0.00171141 -0.000591271   0.00327698\n",
      "  w = -0.00108314  0.00648006   0.0103905\n",
      "\n",
      "[ 0.00171141 -0.00059127  0.00327698 -0.00108314  0.00648006  0.01039048]\n"
     ]
    }
   ],
   "source": [
    "toolMgoal = oMtool.inverse() * oMgoal\n",
    "print(toolMgoal)\n",
    "tool_w = pin.log(toolMgoal).vector\n",
    "print(pin.log(toolMgoal))\n",
    "print(tool_w)"
   ]
  },
  {
   "cell_type": "markdown",
   "metadata": {},
   "source": [
    "This error `tool_w` is can be interpreted as the twist that should be applied during one second to displace the tool frame $F_{tool}$ (located at ${}^0 M_{tool}$) to the goal frame $F_{goal}$ (located at ${}^0 M_{goal}$).\n",
    "\n",
    "Implement a second control law, following the same pattern as with positions. At each control cycle, you should:\n",
    "\n",
    "* compute the displacement between $F_{tool}$ and $F_{goal}$, denoted by ``toolMgoal``\n",
    "* compute the error twist ``tool_w`` using the logarithm over $SE(3)$\n",
    "* compute the 6D Jacobian `tool_Jtool`\n",
    "* compute the control law `vq = pinv(J) @ nu`\n",
    "* integrate the robot velocity `vq` during `DT` to get to a new configuration `q`\n",
    "* log the error by storing it in a list `herr`."
   ]
  },
  {
   "cell_type": "code",
   "execution_count": null,
   "metadata": {},
   "outputs": [],
   "source": [
    "# Your code"
   ]
  },
  {
   "cell_type": "markdown",
   "metadata": {},
   "source": [
    "And the solution:"
   ]
  },
  {
   "cell_type": "code",
   "execution_count": 46,
   "metadata": {},
   "outputs": [],
   "source": [
    "# %load tp3/generated/inverse_kinematics_6d_loop\n",
    "q = q0.copy()\n",
    "herr = []\n",
    "for i in range(500):  # Integrate over 2 second of robot life\n",
    "\n",
    "    # Run the algorithms that outputs values in robot.data\n",
    "    pin.framesForwardKinematics(robot.model,robot.data,q)\n",
    "    pin.computeJointJacobians(robot.model,robot.data,q)\n",
    "\n",
    "    # Placement from world frame o to frame f oMtool  \n",
    "    oMtool = robot.data.oMf[IDX_TOOL]\n",
    "\n",
    "    # 6D error between the two frame\n",
    "    tool_nu = pin.log(oMtool.inverse()*oMgoal).vector\n",
    "\n",
    "    # Get corresponding jacobian\n",
    "    tool_Jtool = pin.computeFrameJacobian(robot.model, robot.data, q, IDX_TOOL, pin.LOCAL)\n",
    "\n",
    "    # Control law by least square\n",
    "    vq = pinv(tool_Jtool)@tool_nu\n",
    "\n",
    "    q = pin.integrate(robot.model,q, vq * DT)\n",
    "    viz.display(q)\n",
    "    time.sleep(1e-3)\n",
    "\n",
    "    herr.append(tool_nu)\n"
   ]
  },
  {
   "cell_type": "markdown",
   "metadata": {},
   "source": [
    "The tool frame $F_{tool}$ converges toward the gooal frame $F_{goal}$: the center and the axes are finally aligned. The trajectory of the tool center is not a straight line, as the frame $F_{tool}$ follows a \"straight\" line, not in $\\mathbb{R}^3$ but in $SE(3)$.\n",
    "We can also plot the error (assuming that herr is a list of the 6D errors herr)."
   ]
  },
  {
   "cell_type": "code",
   "execution_count": 45,
   "metadata": {},
   "outputs": [
    {
     "data": {
      "text/plain": [
       "Text(0, 0.5, 'error (rad)')"
      ]
     },
     "execution_count": 45,
     "metadata": {},
     "output_type": "execute_result"
    },
    {
     "data": {
      "image/png": "[encoded data removed]",
      "text/plain": [
       "<Figure size 640x480 with 2 Axes>"
      ]
     },
     "metadata": {},
     "output_type": "display_data"
    }
   ],
   "source": [
    "plt.subplot(211)\n",
    "plt.plot([ e[:3] for e in herr])\n",
    "plt.xlabel('control cycle (iter)')\n",
    "plt.ylabel('error (m)')\n",
    "plt.subplot(212)\n",
    "plt.plot([ e[3:] for e in herr])\n",
    "plt.xlabel('control cycle (iter)')\n",
    "plt.ylabel('error (rad)')"
   ]
  },
  {
   "cell_type": "markdown",
   "metadata": {},
   "source": [
    "### Inverse kinematics with two tasks\n",
    "\n",
    "So far we controlled the robot with a single task, either the 3D position or 6D placement of the tool frame. Let's see how to take into account a second task: gaze control.\n",
    "\n",
    "#### Gaze control\n",
    "\n",
    "The robot has an additional frame, named $F_{gaze}$, attached to its head and located 40 cm in front of its cameras. The task will be to position (3D) the origin of this frame on an object of interest (a red ball)."
   ]
  },
  {
   "cell_type": "code",
   "execution_count": null,
   "metadata": {},
   "outputs": [],
   "source": [
    "robot = loadTiago(addGazeFrame=True)\n",
    "viz = MeshcatVisualizer(robot)"
   ]
  },
  {
   "cell_type": "code",
   "execution_count": null,
   "metadata": {},
   "outputs": [],
   "source": [
    "IDX_GAZE = robot.model.getFrameId('framegaze')\n",
    "\n",
    "# Add a small ball as a visual target to be reached by the robot\n",
    "ball = np.array([ 1.2,0.5,1.1 ])\n",
    "viz.addSphere('ball', .05, [ .8,.1,.5, .8])\n",
    "viz.applyConfiguration('ball', list(ball)+[0,0,0,1])\n",
    "\n",
    "# Add the box again\n",
    "oMgoal = pin.SE3(pin.Quaternion(-0.5, 0.58, -0.39, 0.52).normalized().matrix(), np.array([1.2, .4, .7]))\n",
    "viz.addBox('goal', [.1,.1,.1], [ .1,.1,.5, .6])\n",
    "viz.applyConfiguration('goal', oMgoal)"
   ]
  },
  {
   "cell_type": "code",
   "execution_count": null,
   "metadata": {},
   "outputs": [],
   "source": [
    "viz.display(q0)\n",
    "viz.viewer.jupyter_cell()"
   ]
  },
  {
   "cell_type": "markdown",
   "metadata": {},
   "source": [
    "Controlling this point can be done by achieving a simple variation of the control law for positioning (3D) the robot tool:"
   ]
  },
  {
   "cell_type": "code",
   "execution_count": null,
   "metadata": {},
   "outputs": [],
   "source": [
    "# Your code"
   ]
  },
  {
   "cell_type": "markdown",
   "metadata": {},
   "source": [
    "Here is the solution if you need it."
   ]
  },
  {
   "cell_type": "code",
   "execution_count": null,
   "metadata": {},
   "outputs": [],
   "source": [
    "%do_not_load tp3/generated/control_head_gaze_loop"
   ]
  },
  {
   "cell_type": "markdown",
   "metadata": {},
   "source": [
    "#### Multi-tasking\n",
    "\n",
    "We now have two tasks: $(e_1, J_1)$ for controlling the tool placement, and $(e_2, J_2)$ for controlling the gaze position. We can use the previous derivation to compute the optimal (in a least square sense) control for task 1:\n",
    "$$\n",
    "\\min_{x\\in \\mathbb{R}^n} \\|J_1 x - v_1^*\\|_2^2\n",
    "$$\n",
    "with solution:\n",
    "$$\n",
    "vq_1 = J_1^+ v_1^*\n",
    "$$\n",
    "\n",
    "We may now add to $vq_1$ any vector that lies is in the nullspace of $J_1$ to perform the second task. We thus search for $vq_2 = vq_1 + dvq_2$, where $dvq_2$ gives an optimal control for task 2 while constraining $dvq_2$ is in the nullspace of $J_1$.\n",
    "$$\n",
    "\\min_{x\\in Ker(J_1)} \\|J_2 (vq_1 + x) - v_2^*\\|_2^2\n",
    "$$\n",
    "The orthogonal nullspace projector of $J_1$ can be computed using the pseudoinverse:\n",
    "$$\n",
    "P_1 = I_{nq} - J_1^+ J_1\n",
    "$$\n",
    "Instead we can solve the problem:\n",
    "$$\n",
    "\\min_{x\\mathbb{R}^n} \\|J_2 (vq_1 + P_1 x) - v_2^*\\|_2^2\n",
    "$$\n",
    "with solution:\n",
    "$$\n",
    "dvq_2 = (J_2 P_1)^+ (v_2^* - J_2 vq_1)\n",
    "$$\n",
    "Finally, the control law to perform task 1 and task 2 in the nullspace of task 1 is:\n",
    "$$\n",
    "vq_2 = J_1^+ v_1^* + (J_2 P_1)^+ ( v_2^* - J_2 J_1^+ v_1^*)\n",
    "$$"
   ]
  },
  {
   "cell_type": "code",
   "execution_count": null,
   "metadata": {},
   "outputs": [],
   "source": [
    "q = q0.copy()\n",
    "herr = [] # Log the value of the error between tool and goal\n",
    "herr2 = [] # Log the value of the error between gaze and ball\n",
    "\n",
    "# Your code"
   ]
  },
  {
   "cell_type": "markdown",
   "metadata": {},
   "source": [
    "Here is the solution:"
   ]
  },
  {
   "cell_type": "code",
   "execution_count": null,
   "metadata": {},
   "outputs": [],
   "source": [
    "%do_not_load tp3/generated/control_head_multi"
   ]
  },
  {
   "cell_type": "code",
   "execution_count": null,
   "metadata": {},
   "outputs": [],
   "source": [
    "plt.subplot(311)\n",
    "plt.plot([ e[:3] for e in herr])\n",
    "plt.xlabel('control cycle (iter)')\n",
    "plt.ylabel('error (m)')\n",
    "plt.subplot(312)\n",
    "plt.plot([ e[3:] for e in herr])\n",
    "plt.xlabel('control cycle (iter)')\n",
    "plt.ylabel('error (rad)');\n",
    "plt.subplot(313)\n",
    "plt.plot([ e for e in herr2])\n",
    "plt.xlabel('control cycle (iter)')\n",
    "plt.ylabel('error (rad)')"
   ]
  },
  {
   "cell_type": "markdown",
   "metadata": {},
   "source": [
    "## Extension to three tasks"
   ]
  },
  {
   "cell_type": "markdown",
   "metadata": {},
   "source": [
    "Note that the previous reasoning can be extended recursively and we have more than 2 tasks.\n",
    "\n",
    "A third task can be implemented as well by computing the nullspace of the two first tasks:"
   ]
  },
  {
   "cell_type": "code",
   "execution_count": null,
   "metadata": {},
   "outputs": [],
   "source": [
    "Pgaze = Ptool - pinv(o_Jgaze3 @ Ptool) @ o_Jgaze3 @ Ptool"
   ]
  },
  {
   "cell_type": "markdown",
   "metadata": {},
   "source": [
    "Load an extra cube in the viewer to figure a table. First, control the robot hand to reach an arbitrary point on the table (don't worry about collisions). Then, implement a control law to control three tasks:\n",
    "* The tool frame should be kept on the table (only the vertical component of the error matters, select the third row of the Jacobian and error accordingly).\n",
    "* The gaze should reach the position of a ball positionned on the table.\n",
    "* The center of the mobile base frame should reach a given goal on the floor. For this task, only the horizontal components (x- and y-) of the task matter, select only the first two rows of the Jacobian and error accordingly."
   ]
  },
  {
   "cell_type": "code",
   "execution_count": null,
   "metadata": {},
   "outputs": [],
   "source": [
    "# Your code"
   ]
  },
  {
   "cell_type": "markdown",
   "metadata": {},
   "source": [
    "Congratulations! You just implemented a local optimal controller that can solve multiple tasks at once."
   ]
  }
 ],
 "metadata": {
  "kernelspec": {
   "display_name": "Python 3 (ipykernel)",
   "language": "python",
   "name": "python3"
  },
  "language_info": {
   "codemirror_mode": {
    "name": "ipython",
    "version": 3
   },
   "file_extension": ".py",
   "mimetype": "text/x-python",
   "name": "python",
   "nbconvert_exporter": "python",
   "pygments_lexer": "ipython3",
   "version": "3.10.12"
  }
 },
 "nbformat": 4,
 "nbformat_minor": 4
}
